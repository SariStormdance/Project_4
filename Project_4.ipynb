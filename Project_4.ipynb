{
 "cells": [
  {
   "cell_type": "code",
   "execution_count": null,
   "id": "1ba4d5fd-f1a6-4407-87a0-3f97d1a8bcb6",
   "metadata": {},
   "outputs": [],
   "source": [
    "#Import dependencies\n",
    "import pandas as pd\n",
    "import numpy as np\n",
    "pd.set_option('display.max_rows', 500)"
   ]
  },
  {
   "cell_type": "code",
   "execution_count": null,
   "id": "b206d2df-95e0-436d-8d71-e5cc64c2f555",
   "metadata": {},
   "outputs": [],
   "source": [
    "#Read in data from CSV\n",
    "test_df=pd.read_csv('full_agency_data.csv')\n",
    "test_df.head(20)\n",
    "df=test_df.copy()"
   ]
  },
  {
   "cell_type": "code",
   "execution_count": null,
   "id": "0f433684-b06a-4c44-b167-85b4b3cb7d3f",
   "metadata": {},
   "outputs": [],
   "source": [
    "test_df=test_df.loc[test_df['DLEAVING'].isin('A', 'B', 'C', 'D')]"
   ]
  },
  {
   "cell_type": "code",
   "execution_count": null,
   "id": "dd5c893f-5c98-46ee-8321-834064f01ba7",
   "metadata": {},
   "outputs": [],
   "source": [
    "missing_df = pd.DataFrame(test_df.isnull().mean()).reset_index()\n",
    "missing_df.rename({'index': 'variable_name',0:'percent_missing'}, axis=1, inplace=True)\n",
    "missing_df"
   ]
  },
  {
   "cell_type": "code",
   "execution_count": null,
   "id": "8109382a-c836-46fc-b4b9-07fc00da89c6",
   "metadata": {},
   "outputs": [],
   "source": []
  },
  {
   "cell_type": "code",
   "execution_count": null,
   "id": "d4ea29ea-57b6-4172-ab5d-5f00803efec7",
   "metadata": {},
   "outputs": [],
   "source": []
  },
  {
   "cell_type": "code",
   "execution_count": null,
   "id": "3b1cea21-2853-436b-9927-8d6637f4f77d",
   "metadata": {},
   "outputs": [],
   "source": []
  },
  {
   "cell_type": "code",
   "execution_count": null,
   "id": "ec3fb3fe-9d0d-4930-9107-4ceb4ef0c1e6",
   "metadata": {},
   "outputs": [],
   "source": []
  },
  {
   "cell_type": "code",
   "execution_count": null,
   "id": "34dd14ab-b2a8-4cea-a5f6-0825d09034da",
   "metadata": {},
   "outputs": [],
   "source": []
  },
  {
   "cell_type": "code",
   "execution_count": null,
   "id": "d5ec1330-7681-4378-8517-efd3e6cd8e18",
   "metadata": {},
   "outputs": [],
   "source": []
  },
  {
   "cell_type": "code",
   "execution_count": null,
   "id": "3e61b658-9029-4329-8cc2-d6f9ddd07986",
   "metadata": {},
   "outputs": [],
   "source": []
  },
  {
   "cell_type": "code",
   "execution_count": null,
   "id": "77b82d7e-a44c-4bba-a4d0-24a72fbe7b22",
   "metadata": {},
   "outputs": [],
   "source": []
  },
  {
   "cell_type": "code",
   "execution_count": null,
   "id": "16708982-31ff-468d-ad99-b476b7feb51e",
   "metadata": {},
   "outputs": [],
   "source": []
  },
  {
   "cell_type": "code",
   "execution_count": null,
   "id": "28c1b9cb-7403-40e7-bc5b-2c408636fcfd",
   "metadata": {},
   "outputs": [],
   "source": []
  },
  {
   "cell_type": "code",
   "execution_count": null,
   "id": "d44a6274-f46e-41d4-932f-f9eeb8f1eeb4",
   "metadata": {},
   "outputs": [],
   "source": []
  },
  {
   "cell_type": "code",
   "execution_count": null,
   "id": "d2eaa600-390a-471d-9da5-63d66bfeea74",
   "metadata": {},
   "outputs": [],
   "source": []
  },
  {
   "cell_type": "code",
   "execution_count": null,
   "id": "1e3fbb6b-b81d-4bfb-931e-0000f17b4c5f",
   "metadata": {},
   "outputs": [],
   "source": []
  },
  {
   "cell_type": "code",
   "execution_count": null,
   "id": "1e750c6a-cec8-4e04-9134-cb2e42f49aa9",
   "metadata": {},
   "outputs": [],
   "source": []
  },
  {
   "cell_type": "code",
   "execution_count": null,
   "id": "341f108c-18c3-456a-a616-6ea96f31c22b",
   "metadata": {},
   "outputs": [],
   "source": []
  },
  {
   "cell_type": "code",
   "execution_count": null,
   "id": "2e56a06c-670e-42b2-893a-0954e60f704a",
   "metadata": {},
   "outputs": [],
   "source": []
  }
 ],
 "metadata": {
  "kernelspec": {
   "display_name": "Python 3 (ipykernel)",
   "language": "python",
   "name": "python3"
  },
  "language_info": {
   "codemirror_mode": {
    "name": "ipython",
    "version": 3
   },
   "file_extension": ".py",
   "mimetype": "text/x-python",
   "name": "python",
   "nbconvert_exporter": "python",
   "pygments_lexer": "ipython3",
   "version": "3.10.11"
  }
 },
 "nbformat": 4,
 "nbformat_minor": 5
}
